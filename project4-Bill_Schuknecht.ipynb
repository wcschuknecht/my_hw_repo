{
 "cells": [
  {
   "cell_type": "markdown",
   "metadata": {},
   "source": [
    "# Project 4\n",
    "\n",
    "In this project, you will summarize and present your analysis from Projects 1-3."
   ]
  },
  {
   "cell_type": "markdown",
   "metadata": {},
   "source": [
    "### Intro: Write a problem Statement/ Specific Aim for this project"
   ]
  },
  {
   "cell_type": "markdown",
   "metadata": {},
   "source": [
    "Answer: Produce a prediction score via logistic regression for each student using their respective GRE, GPA, and undergraduate alma mater prestige rank from the admission.csv dataset."
   ]
  },
  {
   "cell_type": "markdown",
   "metadata": {},
   "source": [
    "### Dataset:  Write up a description of your data and any cleaning that was completed"
   ]
  },
  {
   "cell_type": "markdown",
   "metadata": {},
   "source": [
    "Answer: Our admission.csv dataset includes one outcome variable (admit) and three predictor variables (GRE, GPA, prestige rank). Each of the four variables has between 398 and 400 values, using .dropna() we end up with 397 across all four varibles. The dataset is not quite normally distributed. There is slight positive skewness for GRE and negative skew for GPA and prestige, this is alright for the purposes of our model.\n",
    "\n",
    "Variable | Description | Type of Variable\n",
    "---| ---| ---\n",
    "admit | 0 = not admit 1 = admit | categorical\n",
    "gre | GRE score | discrete\n",
    "gpa | grade point average | continuous\n",
    "rank | rank of an applicant's undergraduate alma mater, with 1 being the highest and 4 as the lowest | categorical\n",
    "\n",
    "In regards to the predictor variables, under the Pearson method, GRE ~ GPA has the highest correlation at 0.382 which is still a weak positive relationship. Prestige technically has a negative relationship with GRE and GPA, however, at -0.124 and -0.061, respectively, both show effectively no linear relationship. Admit technically has a relatively weak negative relationship with prestige at -.24 and a relatively weak positive relationship with GRE and GPA at 0.181 and 0.174, respectively.\n",
    "\n",
    "The period of time in which the data covers is unknown. "
   ]
  },
  {
   "cell_type": "markdown",
   "metadata": {
    "collapsed": true
   },
   "source": [
    "### Demo: Provide a table that explains the data by admission status"
   ]
  },
  {
   "cell_type": "markdown",
   "metadata": {},
   "source": [
    "Mean (STD) or counts by admission status for each variable \n",
    "\n",
    "| Not Admitted | Admitted\n",
    "---| ---|---\n",
    "GPA | mean = 3.3472, std = 0.3764  | mean = 3.4892, std = 0.3717\n",
    "GRE |mean = 573.5793, std = 116.0528 | mean = 618.5714, std = 109.2572\n",
    "Prestige 1 | frequency = 28 (0.0705% of n) | frequency = 33 (0.0831%)\n",
    "Prestige 2 | frequency = 95 (0.2393%) | frequency = 53 (0.1335%)\n",
    "Prestige 3 |frequency = 93 (0.2343%) | frequency = 28 (0.0705%)\n",
    "Prestige 4 |frequency = 55 (0.1385%) | frequency = 12 (0.0302%)"
   ]
  },
  {
   "cell_type": "markdown",
   "metadata": {},
   "source": [
    "### Methods: Write up the methods used in your analysis"
   ]
  },
  {
   "cell_type": "markdown",
   "metadata": {},
   "source": [
    "Answer: As part of our data prep, we use pandas' get_dummies method to create dummy variables for our prestige categories. Then we .join() our dummies with admit, GRE, and GPE, as well as our manually created constant term (set to 1) required by statsmodels. With our data ready, we use statsmodels Logit method to fit our outcome and predictors. Next, we print results using the summary method and then determine corresponding odds ratios by passing params to .exp(). As a way of evaluating our classifier, we recreate the dataset with every logical combination of input values. This allows us to see how predicted probabilities of admission increases/decreases across different variables. To do this we leverage a helper function called cartesian and then use the predict method to generate an additional column of predict scores."
   ]
  },
  {
   "cell_type": "markdown",
   "metadata": {},
   "source": [
    "### Results: Write up your results"
   ]
  },
  {
   "cell_type": "markdown",
   "metadata": {},
   "source": [
    "Answer: Prospective graduate students from prestige 1 undergraduate schools have roughly 50% greater chance of admission compared to the next best performing outcome, prestige 2, and are three times as likely compared to students in aggregate who did not attend prestige 1 undergraduate schools. \n",
    "\n",
    "Students with top GRE or GPA from prestige 1 undergraduate schools have more than twice the chance of admission compared to students from prestige 3 and 4 undergraduate schools. Students from prestige 1 undergraduate schools with the lowest GRE or GPA scores have a slightly better chance of admission compared to students with top performing GRE or GPA scores from prestige 3 and 4 undergraduate schools. \n",
    "\n",
    "Students with top GRE and GPA from prestige 1 have a 0.7340 predict score while students from the same prestige who achieve lowest GRE and GPA product a 0.1642 predict score. Alternatively, students with top GRE and GPA from prestige 4 have a 0.3686 predict score while students from the same prestige who achieve lowest GRE and GPA product a 0.0399 predict score."
   ]
  },
  {
   "cell_type": "markdown",
   "metadata": {},
   "source": [
    "### Visuals: Provide a table or visualization of these results"
   ]
  },
  {
   "cell_type": "markdown",
   "metadata": {},
   "source": [
    "<img src='gre.png' height= 50% width= 50%>"
   ]
  },
  {
   "cell_type": "markdown",
   "metadata": {},
   "source": [
    "<img src='gpa2.png' height= 50% width= 50%>"
   ]
  },
  {
   "cell_type": "markdown",
   "metadata": {},
   "source": [
    "### Discussion: Write up your discussion and future steps"
   ]
  },
  {
   "cell_type": "markdown",
   "metadata": {},
   "source": [
    "Answer: In conclusion, admissions outcomes are strongly associated to the prestige level of each prospective applicant's undergraduate school. Prestige 1 applicants are distant winners compared to next best performers, prestige 2. Prestige 3 and 4 have very similar chances of admission to one another are well behind prestige 2 and not even comparable to prestige 1.\n",
    "\n",
    "As a next step it would be interesting to differentiate outcomes based on graduate program type. This would provide insight around the association between undergraduate prestige and type of targeted graduate studies. "
   ]
  }
 ],
 "metadata": {
  "anaconda-cloud": {},
  "kernelspec": {
   "display_name": "Python [default]",
   "language": "python",
   "name": "python2"
  },
  "language_info": {
   "codemirror_mode": {
    "name": "ipython",
    "version": 2
   },
   "file_extension": ".py",
   "mimetype": "text/x-python",
   "name": "python",
   "nbconvert_exporter": "python",
   "pygments_lexer": "ipython2",
   "version": "2.7.12"
  }
 },
 "nbformat": 4,
 "nbformat_minor": 0
}
