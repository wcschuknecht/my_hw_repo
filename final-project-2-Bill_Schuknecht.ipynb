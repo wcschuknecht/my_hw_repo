{
 "cells": [
  {
   "cell_type": "markdown",
   "metadata": {},
   "source": [
    "### Project Problem and Hypothesis"
   ]
  },
  {
   "cell_type": "markdown",
   "metadata": {},
   "source": [
    "Capital Bikeshare is a program in Washington, D.C. where customers obtain bikes via automated kiosks located throughout the city. Using this on-demand system, users can rent a bike from one location and return to a different location.\n",
    "\n",
    "A significant operational challenge for management is proper allocation of assets throughout the system, over time. In this analysis we will feed time series models a combination of historical usage data and weather data to forecast hourly rental demand for Capital Bikshare. Accurately predicting ridership will enable management to optimize allocation of employees and bikes throughout the system, ultimately providing better service to customers while saving time and money.\n",
    "\n",
    "Hypothesis: Temperature is the strongest predictor of hourly ridership counts for Washington, D.C.'s Capital Bikeshare program."
   ]
  },
  {
   "cell_type": "markdown",
   "metadata": {},
   "source": [
    "### Datasets"
   ]
  },
  {
   "cell_type": "markdown",
   "metadata": {},
   "source": [
    "Datasets are .csv files containing hourly rental data spanning two years. The training set is comprised of the first 19 days of each month, while the test set is the 20th to the end of the month.\n",
    "\n",
    "Data Fields:"
   ]
  },
  {
   "cell_type": "raw",
   "metadata": {},
   "source": [
    "datetime: hourly date + timestamp\n",
    "season: 1 = spring, 2 = summer, 3 = fall, 4 = winter\n",
    "holiday: whether the day is considered a holiday\n",
    "workingday: whether the day is neither a weekend nor holiday\n",
    "weather:\n",
    "  1 - Clear, Few clouds, Partly cloudy, Partly cloudy \n",
    "  2 - Mist + Cloudy, Mist + Broken clouds, Mist + Few clouds, Mist \n",
    "  3 - Light Snow, Light Rain + Thunderstorm + Scattered clouds, Light Rain + Scattered clouds \n",
    "  4 - Heavy Rain + Ice Pallets + Thunderstorm + Mist, Snow + Fog \n",
    "temp: temperature in Celsius\n",
    "atemp: \"feels like\" temperature in Celsius\n",
    "humidity: relative humidity\n",
    "windspeed: wind speed\n",
    "casual: number of non-registered user rentals initiated\n",
    "registered: number of registered user rentals initiated\n",
    "count: number of total rentals"
   ]
  },
  {
   "cell_type": "markdown",
   "metadata": {},
   "source": [
    "### Domain knowledge"
   ]
  },
  {
   "cell_type": "markdown",
   "metadata": {},
   "source": [
    "As a resident of NYC over the past eight years I have observed recurring consumption behavior associated with the city's 'Citi Bike' bike sharing program. This includes high-level trends like relatively higher ridership during warm hours compared to cold hours, relatively higher ridership during hours with no precipitation compared to hours with precipitation, and relatively higher ridership during commuting hours compared to non-commuting hours. Although these observations are specific to my own experience and should not necessarily be generalized to the system overall, they have informed the hypothesis that temperature will have the greatest impact on hourly ridership count predictions.\n",
    "\n",
    "This problem and dataset originates from Kaggle, and as such has hundreds of proposed solutions. Stochastic gradient descent regression, random forest regressor (RF), and gradient boosting regression trees (GBRT) are three models consistently tested among many proposed solutions. On the basis of root mean squared logarithmic error (RMSLE), averaging RF and GBRT appear to yield top results among submissions."
   ]
  },
  {
   "cell_type": "markdown",
   "metadata": {},
   "source": [
    "### Project Concerns"
   ]
  },
  {
   "cell_type": "markdown",
   "metadata": {},
   "source": [
    "I selected this project because of the tremendous wealth of previous work that can be referenced as a guide. This of course presents the challenge of somehow modifying the approach to \"make it my own\". To that end, my goal is to focus on feature engineering within the context of the various aforementioned models to produce unique results. \n",
    "\n",
    "With that in mind, my primary concern is with feature engineering itself. This is largely due to my limited exposure conceptually, let alone in practice. Given the effectively unlimited resources online, not to mention through class, I am confident that this gap in knowledge will be close.\n",
    "\n",
    "I don not have any concerns specific to the source datasets."
   ]
  },
  {
   "cell_type": "markdown",
   "metadata": {},
   "source": [
    "### Outcomes"
   ]
  },
  {
   "cell_type": "markdown",
   "metadata": {},
   "source": [
    "The output will be be expected bike rental counts, by hour. The original Kaggle competition's mean squared logarithmic error metric will also be the evaluation metric for this project. \n",
    "\n",
    "Currently I am not sure how complicated my model will have to be nor can I predict what gain to expect from 'temp', the feature anticipated to have greatest importance. Regarding success, my goal is to rank in the top half of Kaggle submissions. If I am unable to achieve this goal I will solicit advice from fellow data scientists on possible modeling or feature engineering alternatives. "
   ]
  }
 ],
 "metadata": {
  "anaconda-cloud": {},
  "kernelspec": {
   "display_name": "Python [conda root]",
   "language": "python",
   "name": "conda-root-py"
  },
  "language_info": {
   "codemirror_mode": {
    "name": "ipython",
    "version": 2.0
   },
   "file_extension": ".py",
   "mimetype": "text/x-python",
   "name": "python",
   "nbconvert_exporter": "python",
   "pygments_lexer": "ipython2",
   "version": "2.7.12"
  }
 },
 "nbformat": 4,
 "nbformat_minor": 0
}